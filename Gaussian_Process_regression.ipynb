{
 "cells": [
  {
   "cell_type": "markdown",
   "id": "civil-birth",
   "metadata": {},
   "source": [
    "# Gaussian process regression\n",
    "\n",
    "## Vittorio Orlandi, Graham Tierney, Alessandro Zito\n",
    "\n",
    "This file runs a simulation to compare the time performance of 3 different packages for Bayesian Gaussian process regression:\n",
    "\n",
    "1) PyStan (with script similar to the one depicted \n",
    "[here](https://mc-stan.org/docs/2_19/stan-users-guide/gaussian-process-regression.html) \n",
    "\n",
    "2) GPy [here](https://nbviewer.jupyter.org/github/SheffieldML/notebook/blob/master/GPy/sampling_hmc.ipynb)\n",
    "\n",
    "3) FIFA_GP with HODLR approximation (out own implementation). See this [paper](https://arxiv.org/pdf/2006.06537.pdf) for references \n",
    "\n",
    "4) Hard coded Gibbs sampler is full python (no Cpp)\n",
    "\n",
    "The purpose of this comparison is to test the power of our implementation when using standard toold for Gaussian Process regression."
   ]
  },
  {
   "cell_type": "code",
   "execution_count": 1,
   "id": "limiting-leeds",
   "metadata": {},
   "outputs": [],
   "source": [
    "import pystan  # Version used: 2.19.1.1. Note that there is a sliglty different code.\n",
    "import numpy as np \n",
    "import scipy\n",
    "import GPy\n",
    "import matplotlib.pyplot as plt\n",
    "from scipy.stats import truncnorm\n",
    "from timeit import timeit\n",
    "import time\n",
    "from fifa_gp_py.scripts.regression import FIFA_GP_R"
   ]
  },
  {
   "cell_type": "markdown",
   "id": "general-prevention",
   "metadata": {},
   "source": [
    "We generate the datasets as follows:\n",
    "$$x \\sim N_{[-2,2]}(0,1)$$\n",
    "and \n",
    "$$y = f(x) + \\epsilon$$\n",
    "with $$f(x) = \\sin(2x) + \\frac18e^{x} \\qquad \\epsilon \\sim N(0, 1/\\tau)$$\n",
    "and $\\tau = 1$."
   ]
  },
  {
   "cell_type": "code",
   "execution_count": 2,
   "id": "planned-coupon",
   "metadata": {},
   "outputs": [],
   "source": [
    "## Useful functions\n",
    "\n",
    "def f(x):\n",
    "    \"\"\"Function to compute the mean process f\"\"\"\n",
    "    return np.sin(2*x) + np.exp(x)/8\n",
    "\n",
    "def simulate_data(n, a, b, tau, scale = 1):\n",
    "    \"\"\"Simulate the data\"\"\"\n",
    "    x = truncnorm(a/scale,b/scale, scale = scale).rvs(n)\n",
    "    y = f(x) + np.random.normal(0,np.sqrt(1/tau), size = n)\n",
    "    return np.c_[y, x]\n",
    "\n",
    "def timer(f):    # time is defined with any f\n",
    "    \"\"\"Times how long f takes.\"\"\"\n",
    "    \n",
    "    def g(*args, **kwargs):    # *args, **kwargs. Any arguents are good!!\n",
    "        start = time.time()     \n",
    "        res = f(*args, **kwargs)  # do your f function here\n",
    "        elapsed = time.time() - start\n",
    "        return res, elapsed # res is the output of your function\n",
    "    return g"
   ]
  },
  {
   "cell_type": "code",
   "execution_count": 3,
   "id": "incoming-yellow",
   "metadata": {},
   "outputs": [],
   "source": [
    "# Generate the datasets for the simulation\n",
    "np.random.seed(191)\n",
    "n_list = [100, 250, 500, 750, 1000, 2000]\n",
    "a, b = -2, 2 \n",
    "tau = 1\n",
    "\n",
    "simualtion_data = {str(n_list[i]): simulate_data(n_list[i], a, b, tau) for i in range(len(n_list))}"
   ]
  },
  {
   "cell_type": "code",
   "execution_count": 4,
   "id": "killing-security",
   "metadata": {},
   "outputs": [],
   "source": [
    "y = simualtion_data[\"500\"][:, 0]\n",
    "x = simualtion_data[\"500\"][:, 1]"
   ]
  },
  {
   "cell_type": "code",
   "execution_count": 5,
   "id": "protective-drill",
   "metadata": {},
   "outputs": [
    {
     "data": {
      "image/png": "[encoded data removed]",
      "text/plain": [
       "<Figure size 432x288 with 1 Axes>"
      ]
     },
     "metadata": {
      "needs_background": "light"
     },
     "output_type": "display_data"
    }
   ],
   "source": [
    "## Just to plot\n",
    "plt.scatter(x,y)\n",
    "pass"
   ]
  },
  {
   "cell_type": "markdown",
   "id": "inappropriate-threshold",
   "metadata": {},
   "source": [
    "##  1) PySTAN "
   ]
  },
  {
   "cell_type": "code",
   "execution_count": 6,
   "id": "british-bishop",
   "metadata": {},
   "outputs": [
    {
     "name": "stderr",
     "output_type": "stream",
     "text": [
      "INFO:pystan:COMPILING THE C++ CODE FOR MODEL anon_model_57bef300b49c2c6cbc9dc3bcd0a94432 NOW.\n"
     ]
    }
   ],
   "source": [
    "# Let's try to use stan\n",
    "stanGP = \"\"\"\n",
    "data {\n",
    "  int<lower=1> N;\n",
    "  real x[N];\n",
    "  vector[N] y;\n",
    "  \n",
    "    // Hyperparameters for the precision tau\n",
    "  real<lower = 0> a1; \n",
    "  real<lower = 0> b1; \n",
    "  \n",
    "  // Hyperparameters for the squared exp. kernel sigma2_f\n",
    "  real<lower = 0> a2;\n",
    "  real<lower = 0> b2;\n",
    "  \n",
    "}\n",
    "transformed data {\n",
    "  vector[N] mu = rep_vector(0, N);\n",
    "}\n",
    "parameters {\n",
    "  real<lower=0> rho;\n",
    "  real<lower=0> sigma2f;\n",
    "  real<lower=0> tau;\n",
    "}\n",
    "model {\n",
    "  matrix[N, N] L_K;\n",
    "  matrix[N, N] K = cov_exp_quad(x, sigma2f, rho);\n",
    "  real invtau = 1/tau;\n",
    "\n",
    "  // diagonal elements\n",
    "  for (n in 1:N)\n",
    "    K[n, n] = K[n, n] + invtau;\n",
    "\n",
    "  L_K = cholesky_decompose(K);\n",
    "\n",
    "  rho ~ inv_gamma(5, 5);\n",
    "  sigma2f ~ inv_gamma(a2/2, b2/2);\n",
    "  tau ~ gamma(a1/2, b1/2);\n",
    "\n",
    "  y ~ multi_normal_cholesky(mu, L_K);\n",
    "}\n",
    "\"\"\"\n",
    "\n",
    "sm = pystan.StanModel(model_code=stanGP)"
   ]
  },
  {
   "cell_type": "code",
   "execution_count": 7,
   "id": "foreign-raleigh",
   "metadata": {},
   "outputs": [],
   "source": [
    "@timer\n",
    "def test_PyStan(stan_data, sm, n_iter):\n",
    "    \"\"\"Get the posterior via stan\"\"\"\n",
    "    fit = sm.sampling(data=stan_data, iter=n_iter, chains=1)\n",
    "    return fit"
   ]
  },
  {
   "cell_type": "code",
   "execution_count": 8,
   "id": "monthly-festival",
   "metadata": {},
   "outputs": [
    {
     "name": "stdout",
     "output_type": "stream",
     "text": [
      "0\n"
     ]
    },
    {
     "name": "stderr",
     "output_type": "stream",
     "text": [
      "WARNING:pystan:Rhat above 1.1 or below 0.9 indicates that the chains very likely have not mixed\n"
     ]
    },
    {
     "name": "stdout",
     "output_type": "stream",
     "text": [
      "1\n",
      "2\n"
     ]
    },
    {
     "name": "stderr",
     "output_type": "stream",
     "text": [
      "WARNING:pystan:Rhat above 1.1 or below 0.9 indicates that the chains very likely have not mixed\n"
     ]
    },
    {
     "name": "stdout",
     "output_type": "stream",
     "text": [
      "3\n",
      "4\n",
      "5\n"
     ]
    }
   ],
   "source": [
    "stan_results = {}\n",
    "n_iter = 100\n",
    "stan_times = np.zeros(len(n_list))\n",
    "for i in range(len(n_list)):\n",
    "    print(i)\n",
    "    n = n_list[i]\n",
    "    x = simualtion_data[str(n)][:, 1]\n",
    "    y = simualtion_data[str(n)][:, 0]\n",
    "\n",
    "    stan_data = {\"N\": n, \n",
    "                \"x\": list(x.ravel()),\n",
    "                \"y\" : list(y.ravel()), \n",
    "                \"a1\": 1, \"b1\": 1,\n",
    "                \"a2\": 1, \"b2\": 1}\n",
    "\n",
    "    res = test_PyStan(stan_data, sm, n_iter = n_iter)\n",
    "    \n",
    "    stan_results[str(n)] = res\n",
    "    \n",
    "    samp = res[0].extract()\n",
    "    samp = np.c_[samp[\"tau\"], samp[\"rho\"], samp[\"sigma2f\"]]\n",
    "    name_samp = \"output/Pystan/Pystan_sampler_postpars_\" + str(n) +\".npy\"\n",
    "    np.save(name_samp, samp)\n",
    "    \n",
    "    stan_times[i] = res[1]\n",
    "\n",
    "name_times = \"output/Pystan/stan_times.npy\"\n",
    "np.save(name_times, stan_times)"
   ]
  },
  {
   "cell_type": "markdown",
   "id": "angry-blink",
   "metadata": {},
   "source": [
    "## 2) GPy"
   ]
  },
  {
   "cell_type": "code",
   "execution_count": 9,
   "id": "incredible-following",
   "metadata": {},
   "outputs": [],
   "source": [
    "@timer\n",
    "def test_GPy(x, y, n_iter, a1=1, b1=1, a2=1, b2=1):\n",
    "    \"\"\"Get the posterior via GPy\"\"\"\n",
    "    m = GPy.models.GPRegression(x[:, None],y[:, None])\n",
    "    \n",
    "    # Set Kernel prior\n",
    "    m.kern.lengthscale.set_prior(GPy.priors.Gamma.from_EV(5.,5))\n",
    "    m.kern.variance.set_prior(GPy.priors.Gamma.from_EV(a2/2.,b2/2))\n",
    "    m.likelihood.variance.set_prior(GPy.priors.Gamma.from_EV(a1/2,b1/2))\n",
    "    \n",
    "    # Fit the model\n",
    "    hmc = GPy.inference.mcmc.HMC(m,stepsize=5e-2)\n",
    "    s = hmc.sample(num_samples=n_iter)\n",
    "    \n",
    "    return m, hmc, s"
   ]
  },
  {
   "cell_type": "code",
   "execution_count": 10,
   "id": "excess-wrapping",
   "metadata": {},
   "outputs": [
    {
     "name": "stderr",
     "output_type": "stream",
     "text": [
      "INFO:GP:initializing Y\n",
      "INFO:GP:initializing inference method\n",
      "INFO:GP:adding kernel and likelihood as parameters\n",
      "WARNING:lengthscale:reconstraining parameters GP_regression.rbf.lengthscale\n",
      "WARNING:variance:reconstraining parameters GP_regression.rbf.variance\n",
      "WARNING:variance:reconstraining parameters GP_regression.Gaussian_noise.variance\n"
     ]
    }
   ],
   "source": [
    "n = n_list[0]\n",
    "x = simualtion_data[str(n)][:, 1]\n",
    "y = simualtion_data[str(n)][:, 0]\n",
    "res = test_GPy(x, y, n_iter=100)"
   ]
  },
  {
   "cell_type": "code",
   "execution_count": 11,
   "id": "connected-uganda",
   "metadata": {},
   "outputs": [
    {
     "name": "stderr",
     "output_type": "stream",
     "text": [
      "INFO:GP:initializing Y\n",
      "INFO:GP:initializing inference method\n",
      "INFO:GP:adding kernel and likelihood as parameters\n",
      "WARNING:lengthscale:reconstraining parameters GP_regression.rbf.lengthscale\n",
      "WARNING:variance:reconstraining parameters GP_regression.rbf.variance\n",
      "WARNING:variance:reconstraining parameters GP_regression.Gaussian_noise.variance\n"
     ]
    },
    {
     "name": "stdout",
     "output_type": "stream",
     "text": [
      "0\n"
     ]
    },
    {
     "name": "stderr",
     "output_type": "stream",
     "text": [
      "INFO:GP:initializing Y\n",
      "INFO:GP:initializing inference method\n",
      "INFO:GP:adding kernel and likelihood as parameters\n",
      "WARNING:lengthscale:reconstraining parameters GP_regression.rbf.lengthscale\n",
      "WARNING:variance:reconstraining parameters GP_regression.rbf.variance\n",
      "WARNING:variance:reconstraining parameters GP_regression.Gaussian_noise.variance\n"
     ]
    },
    {
     "name": "stdout",
     "output_type": "stream",
     "text": [
      "1\n"
     ]
    },
    {
     "name": "stderr",
     "output_type": "stream",
     "text": [
      "INFO:GP:initializing Y\n",
      "INFO:GP:initializing inference method\n",
      "INFO:GP:adding kernel and likelihood as parameters\n",
      "WARNING:lengthscale:reconstraining parameters GP_regression.rbf.lengthscale\n"
     ]
    },
    {
     "name": "stdout",
     "output_type": "stream",
     "text": [
      "2\n"
     ]
    },
    {
     "name": "stderr",
     "output_type": "stream",
     "text": [
      "WARNING:variance:reconstraining parameters GP_regression.rbf.variance\n",
      "WARNING:variance:reconstraining parameters GP_regression.Gaussian_noise.variance\n",
      "INFO:GP:initializing Y\n",
      "INFO:GP:initializing inference method\n",
      "INFO:GP:adding kernel and likelihood as parameters\n"
     ]
    },
    {
     "name": "stdout",
     "output_type": "stream",
     "text": [
      "3\n"
     ]
    },
    {
     "name": "stderr",
     "output_type": "stream",
     "text": [
      "WARNING:lengthscale:reconstraining parameters GP_regression.rbf.lengthscale\n",
      "WARNING:variance:reconstraining parameters GP_regression.rbf.variance\n",
      "WARNING:variance:reconstraining parameters GP_regression.Gaussian_noise.variance\n",
      "INFO:GP:initializing Y\n",
      "INFO:GP:initializing inference method\n",
      "INFO:GP:adding kernel and likelihood as parameters\n"
     ]
    },
    {
     "name": "stdout",
     "output_type": "stream",
     "text": [
      "4\n"
     ]
    },
    {
     "name": "stderr",
     "output_type": "stream",
     "text": [
      "WARNING:lengthscale:reconstraining parameters GP_regression.rbf.lengthscale\n",
      "WARNING:variance:reconstraining parameters GP_regression.rbf.variance\n",
      "WARNING:variance:reconstraining parameters GP_regression.Gaussian_noise.variance\n",
      "INFO:GP:initializing Y\n",
      "INFO:GP:initializing inference method\n",
      "INFO:GP:adding kernel and likelihood as parameters\n"
     ]
    },
    {
     "name": "stdout",
     "output_type": "stream",
     "text": [
      "5\n"
     ]
    },
    {
     "name": "stderr",
     "output_type": "stream",
     "text": [
      "WARNING:lengthscale:reconstraining parameters GP_regression.rbf.lengthscale\n",
      "WARNING:variance:reconstraining parameters GP_regression.rbf.variance\n",
      "WARNING:variance:reconstraining parameters GP_regression.Gaussian_noise.variance\n"
     ]
    },
    {
     "ename": "NameError",
     "evalue": "name 'FIFAGP_times' is not defined",
     "output_type": "error",
     "traceback": [
      "\u001b[0;31m---------------------------------------------------------------------------\u001b[0m",
      "\u001b[0;31mNameError\u001b[0m                                 Traceback (most recent call last)",
      "\u001b[0;32m<ipython-input-11-b2a80d4b7468>\u001b[0m in \u001b[0;36m<module>\u001b[0;34m\u001b[0m\n\u001b[1;32m     18\u001b[0m \u001b[0;34m\u001b[0m\u001b[0m\n\u001b[1;32m     19\u001b[0m \u001b[0mname_times\u001b[0m \u001b[0;34m=\u001b[0m \u001b[0;34m\"output/GPy/GPy_times.npy\"\u001b[0m\u001b[0;34m\u001b[0m\u001b[0;34m\u001b[0m\u001b[0m\n\u001b[0;32m---> 20\u001b[0;31m \u001b[0mnp\u001b[0m\u001b[0;34m.\u001b[0m\u001b[0msave\u001b[0m\u001b[0;34m(\u001b[0m\u001b[0mname_times\u001b[0m\u001b[0;34m,\u001b[0m \u001b[0mFIFAGP_times\u001b[0m\u001b[0;34m)\u001b[0m\u001b[0;34m\u001b[0m\u001b[0;34m\u001b[0m\u001b[0m\n\u001b[0m",
      "\u001b[0;31mNameError\u001b[0m: name 'FIFAGP_times' is not defined"
     ]
    }
   ],
   "source": [
    "GPy_results = {}\n",
    "n_iter = 100\n",
    "GPy_times = np.zeros(len(n_list))\n",
    "for i in range(len(n_list)):\n",
    "    print(i)\n",
    "    n = n_list[i]\n",
    "    x = simualtion_data[str(n)][:, 1]\n",
    "    y = simualtion_data[str(n)][:, 0]\n",
    "    res = test_GPy(x, y, n_iter=n_iter)\n",
    "    \n",
    "    GPy_results[str(n)] = res\n",
    "\n",
    "    samp = res[0][2]\n",
    "    name_samp = \"output/GPy/GPy_sampler_postpars_\" + str(n) +\".npy\"\n",
    "    np.save(name_samp, samp)\n",
    "    \n",
    "    GPy_times[i] = res[1]\n",
    "\n",
    "name_times = \"output/GPy/GPy_times.npy\"\n",
    "np.save(name_times, GPy_times)"
   ]
  },
  {
   "cell_type": "code",
   "execution_count": 12,
   "id": "serial-transcript",
   "metadata": {},
   "outputs": [],
   "source": [
    "name_times = \"output/GPy/GPy_times.npy\"\n",
    "np.save(name_times, GPy_times)"
   ]
  },
  {
   "cell_type": "markdown",
   "id": "fourth-midnight",
   "metadata": {},
   "source": [
    "## 3) FIFA GP"
   ]
  },
  {
   "cell_type": "code",
   "execution_count": 6,
   "id": "spare-shooting",
   "metadata": {},
   "outputs": [],
   "source": [
    "@timer\n",
    "def test_FIFAGP(n, n_iter):\n",
    "    \"\"\"Timer test fornthe FIFA GP \"\"\"\n",
    "    \n",
    "    gp = FIFA_GP_R()\n",
    "    rho_choices = list(np.linspace(.5, 3, 50))\n",
    "    y = simualtion_data[str(n)][:, 0]\n",
    "    x = simualtion_data[str(n)][:, 1]\n",
    "    gp.fit(x[:, None],y[:, None],\n",
    "           1,rho_choices,1,\n",
    "           True,False,\n",
    "           True,-1,\n",
    "           1,1,1,1,\n",
    "           1e-12,20,True,169,\"none\",\n",
    "           0,n_iter,1,False)\n",
    "    return gp"
   ]
  },
  {
   "cell_type": "code",
   "execution_count": 14,
   "id": "iraqi-fundamentals",
   "metadata": {},
   "outputs": [
    {
     "name": "stdout",
     "output_type": "stream",
     "text": [
      "0\n",
      "1\n",
      "2\n",
      "3\n",
      "4\n",
      "5\n"
     ]
    }
   ],
   "source": [
    "FIFAGP_results = {}\n",
    "n_iter = 100\n",
    "FIFAGP_times = np.zeros(len(n_list))\n",
    "for i in range(len(n_list)):\n",
    "    print(i)\n",
    "    n = n_list[i]\n",
    "    out = test_FIFAGP(n, n_iter)\n",
    "    \n",
    "    ## STORE THE VALUES\n",
    "    FIFAGP_results[str(n)] = out\n",
    "    \n",
    "    f_vals = out[0].f\n",
    "    samp = out[0].get_params()\n",
    "    name_f = \"output/FIFAGP/FIFAGP_sampler_fout_\" + str(n) +\".npy\"\n",
    "    np.save(name_f, f_vals)\n",
    "    name_samp = \"output/FIFAGP/FIFAGP_sampler_postpars_\" + str(n) +\".npy\"\n",
    "    np.save(name_samp, samp)\n",
    "    \n",
    "    FIFAGP_times[i] = out[1]\n",
    "\n",
    "name_times = \"output/FIFAGP/FIFAGP_times.npy\"\n",
    "np.save(name_times, FIFAGP_times)"
   ]
  },
  {
   "cell_type": "code",
   "execution_count": 8,
   "id": "unnecessary-belief",
   "metadata": {},
   "outputs": [
    {
     "data": {
      "text/plain": [
       "<fifa_gp_py.scripts.regression.FIFA_GP_R at 0x14463a1d0>"
      ]
     },
     "execution_count": 8,
     "metadata": {},
     "output_type": "execute_result"
    }
   ],
   "source": [
    "gp = FIFA_GP_R()\n",
    "rho_choices = list(np.linspace(.5, 3, 50))\n",
    "y = simualtion_data[\"100\"][:, 0]\n",
    "x = simualtion_data[\"100\"][:, 1]\n",
    "gp.fit(x[:, None],y[:, None],\n",
    "       1,rho_choices,1,\n",
    "       True,False,\n",
    "       True,-1,\n",
    "       1,1,1,1,\n",
    "       1e-12,20,True,169,\"none\",\n",
    "       0,100,1,False)"
   ]
  },
  {
   "cell_type": "code",
   "execution_count": 10,
   "id": "understanding-planning",
   "metadata": {},
   "outputs": [
    {
     "data": {
      "text/html": [
       "<div>\n",
       "<style scoped>\n",
       "    .dataframe tbody tr th:only-of-type {\n",
       "        vertical-align: middle;\n",
       "    }\n",
       "\n",
       "    .dataframe tbody tr th {\n",
       "        vertical-align: top;\n",
       "    }\n",
       "\n",
       "    .dataframe thead th {\n",
       "        text-align: right;\n",
       "    }\n",
       "</style>\n",
       "<table border=\"1\" class=\"dataframe\">\n",
       "  <thead>\n",
       "    <tr style=\"text-align: right;\">\n",
       "      <th></th>\n",
       "      <th>Noise variance</th>\n",
       "      <th>Kernel Length-Scale</th>\n",
       "      <th>Kernel Variance</th>\n",
       "    </tr>\n",
       "  </thead>\n",
       "  <tbody>\n",
       "    <tr>\n",
       "      <th>0</th>\n",
       "      <td>1.145965</td>\n",
       "      <td>1.441837</td>\n",
       "      <td>0.595468</td>\n",
       "    </tr>\n",
       "  </tbody>\n",
       "</table>\n",
       "</div>"
      ],
      "text/plain": [
       "   Noise variance  Kernel Length-Scale  Kernel Variance\n",
       "0        1.145965             1.441837         0.595468"
      ]
     },
     "execution_count": 10,
     "metadata": {},
     "output_type": "execute_result"
    }
   ],
   "source": [
    "gp.get_params_mean()"
   ]
  },
  {
   "cell_type": "markdown",
   "id": "composite-ministry",
   "metadata": {},
   "source": [
    "## 4) Hard coded Gibbs sampler"
   ]
  },
  {
   "cell_type": "code",
   "execution_count": 6,
   "id": "cutting-brooklyn",
   "metadata": {},
   "outputs": [],
   "source": [
    "def build_K(sigma2f, rho, D):\n",
    "    \"\"\"This function builds the Kernel for a given vector of observations.\"\"\"\n",
    "    n = D.shape[0]\n",
    "    return sigma2f * np.exp(-rho*D) + np.eye(n) * 1e-8\n",
    "\n",
    "def get_Proposalmatrix(rho_list):\n",
    "    \"\"\"Proposal probabilities\"\"\"\n",
    "    nrhos = rho_list.shape[0]\n",
    "    rho_ind = np.arange(nrhos)\n",
    "    a = np.exp(-scipy.spatial.distance_matrix(rho_ind[:,None], rho_ind[:,None])**2)\n",
    "    probMatrix = (a/a.sum(axis = 0)[:, None])\n",
    "    return probMatrix\n",
    "\n",
    "def sampleRho_MH(rho_list, D, current_ind, probMatrix, sigma2f, f):\n",
    "    \"\"\" Sample one rho via MH\"\"\"\n",
    "    # Sample the new index\n",
    "    probs = probMatrix[current_ind]\n",
    "    \n",
    "    new_ind = np.random.choice(np.arange(probMatrix.shape[0]), size = 1, p = probs)[0]\n",
    "    if new_ind == current_ind:\n",
    "        return current_ind\n",
    "    \n",
    "    else:\n",
    "        K_new = build_K(sigma2f, rho_list[new_ind], D)\n",
    "        K_inv_new = scipy.linalg.inv(K_new)\n",
    "        K_det_new = scipy.linalg.det(K_new) + 1e-8\n",
    "        \n",
    "        K_old = build_K(sigma2f, rho_list[current_ind], D)\n",
    "        K_inv_old = scipy.linalg.inv(K_old)\n",
    "        K_det_old = scipy.linalg.det(K_old) + 1e-8\n",
    "        \n",
    "        # Compute the MH log ratio\n",
    "        lQoldToNew = np.log(probs[new_ind])\n",
    "        lQnewToOld = np.log(probMatrix[new_ind, current_ind])\n",
    "\n",
    "        quad_tmp_old =  f.T @ K_inv_old @ f\n",
    "        quad_tmp_new =  f.T @ K_inv_new @ f\n",
    "        llold = -0.5 * (np.log(K_det_old) + quad_tmp_old)\n",
    "        llnew = -0.5 * (np.log(K_det_new) + quad_tmp_new)\n",
    "        \n",
    "        # Acceptance probability\n",
    "        lA = llnew + lQnewToOld - llold - lQoldToNew\n",
    "        \n",
    "        if np.random.rand() < np.exp(lA): \n",
    "            return new_ind\n",
    "        else:\n",
    "            return current_ind\n",
    "\n",
    "def Gibbs_GP(X, y, n_iter, startvals, burnin = 0):\n",
    "    \"\"\"Gaussian process Gibbs sampler.\"\"\"\n",
    "    \n",
    "    # Step 00 - Create empy vectors to store the quantities\n",
    "    n =  X.shape[0]\n",
    "    f_vals = np.zeros((n_iter, n))\n",
    "    pars = np.zeros((n_iter, 3))\n",
    "    \n",
    "    # Step 0 - initialize the quantities\n",
    "    rho_ind = startvals[\"rho_ind\"]\n",
    "    rho_list = startvals[\"rho_list\"]\n",
    "    rho = rho_list[rho_ind]\n",
    "    tau = startvals[\"tau\"]\n",
    "    sigma2f = startvals[\"sigma2f\"]\n",
    "    a1, b1  =  startvals[\"tau_hyper\"]\n",
    "    a2, b2  =  startvals[\"sigma2f_hyper\"]\n",
    "    D = scipy.spatial.distance_matrix(X[:, None],X[:, None])**2\n",
    "    probMatrix = get_Proposalmatrix(rho_list)\n",
    "    \n",
    "    # Run the Sampler\n",
    "    for i in range(n_iter + burnin):\n",
    "        \n",
    "        ## Step 1 - Build K and sample f\n",
    "        K = build_K(sigma2f, rho, D) \n",
    "\n",
    "        K_inv =  scipy.linalg.inv(K)\n",
    "        K_Ktau_inv = K @ np.linalg.inv(K + np.eye(n)/tau)\n",
    "        \n",
    "        f = np.random.multivariate_normal(mean = K_Ktau_inv @ y, cov = tau * K_Ktau_inv, size=1)[0]\n",
    "       \n",
    "        ## Step 2 - Sample tau\n",
    "        tau_rate = 0.5*(b1 + np.sum((y-f)**2))\n",
    "        tau = np.random.gamma(size = 1, shape = 0.5*(a1 + n), scale = 1/tau_rate)\n",
    "        \n",
    "        # Step 3 - Sample sigma2f\n",
    "        sigma2f_rate = 0.5*(b2 + sigma2f*f.T @ K_inv @ f)\n",
    "        sigma2f_inv = np.random.gamma(size = 1, shape = 0.5*(a2 + n), scale = 1/sigma2f_rate)\n",
    "        sigma2f = 1/sigma2f_inv\n",
    "        \n",
    "        # Step 4 - Sample rho with a Metropolis step\n",
    "        rho_ind = sampleRho_MH(rho_list, D, current_ind = rho_ind, probMatrix = probMatrix, sigma2f=sigma2f, f=f)\n",
    "        rho =  rho_list[rho_ind]\n",
    "        \n",
    "        # Save the quantities\n",
    "        f_vals[i] = f.ravel()\n",
    "        pars[i, 0] = tau\n",
    "        pars[i, 1] = rho\n",
    "        pars[i, 2] = sigma2f\n",
    "    \n",
    "    return f_vals, pars\n",
    "\n",
    "@timer\n",
    "def test_GibbsSampler(simualtion_data, n, n_iter):\n",
    "    \"\"\"Test the Gibbs sampler\"\"\"\n",
    "    # Hardcode the starting values\n",
    "    startvals = {\"rho_ind\":0, \n",
    "             \"rho_list\": np.linspace(0.5, 2.5, 50), \n",
    "             \"tau\" : 1,\n",
    "             \"sigma2f\" : 1,\n",
    "             \"tau_hyper\" : (1,1),\n",
    "             \"sigma2f_hyper\" :(1,1)}\n",
    "    y = simualtion_data[str(n)][:, 0]\n",
    "    x = simualtion_data[str(n)][:, 1]\n",
    "    f_vals, post_pars = Gibbs_GP(x, y, n_iter, startvals)\n",
    "    return f_vals, post_pars"
   ]
  },
  {
   "cell_type": "code",
   "execution_count": 14,
   "id": "western-venice",
   "metadata": {},
   "outputs": [],
   "source": [
    "startvals = {\"rho_ind\":0, \n",
    "             \"rho_list\": np.linspace(0.5, 2.5, 50), \n",
    "             \"tau\" : 1,\n",
    "             \"sigma2f\" : 1,\n",
    "             \"tau_hyper\" : (1,1),\n",
    "             \"sigma2f_hyper\" :(1,1)}\n",
    "y = simualtion_data[\"250\"][:, 0]\n",
    "x = simualtion_data[\"250\"][:, 1]\n",
    "n_iter  = 100"
   ]
  },
  {
   "cell_type": "code",
   "execution_count": 18,
   "id": "seventh-concrete",
   "metadata": {},
   "outputs": [
    {
     "name": "stdout",
     "output_type": "stream",
     "text": [
      " \n",
      "*** Profile stats marshalled to file 'Gibbs_profiler.prof'. \n"
     ]
    }
   ],
   "source": [
    "%prun -q -D Gibbs_profiler.prof Gibbs_GP(x, y, n_iter, startvals)"
   ]
  },
  {
   "cell_type": "code",
   "execution_count": 16,
   "id": "funky-psychiatry",
   "metadata": {},
   "outputs": [
    {
     "name": "stdout",
     "output_type": "stream",
     "text": [
      "Fri Apr 23 19:22:54 2021    Gibbs_profiler.prof\n",
      "\n",
      "         20250 function calls (19750 primitive calls) in 3.295 seconds\n",
      "\n",
      "   Random listing order was used\n",
      "\n",
      "   ncalls  tottime  percall  cumtime  percall filename:lineno(function)\n",
      "      124    0.000    0.000    0.000    0.000 {method 'append' of 'list' objects}\n",
      "       62    0.000    0.000    0.000    0.000 {method 'sort' of 'list' objects}\n",
      "      662    0.001    0.000    0.001    0.000 {method 'get' of 'dict' objects}\n",
      "      502    0.000    0.000    0.000    0.000 {method 'items' of 'dict' objects}\n",
      "      200    0.014    0.000    0.014    0.000 {built-in method builtins.abs}\n",
      "        1    0.000    0.000    3.295    3.295 {built-in method builtins.exec}\n",
      "      748    0.001    0.000    0.001    0.000 {built-in method builtins.getattr}\n",
      "      200    0.000    0.000    0.000    0.000 {built-in method builtins.hasattr}\n",
      "      650    0.001    0.000    0.001    0.000 {built-in method builtins.isinstance}\n",
      "      900    0.001    0.000    0.001    0.000 {built-in method builtins.issubclass}\n",
      "      448    0.000    0.000    0.000    0.000 {built-in method builtins.len}\n",
      "      100    0.001    0.000    0.001    0.000 <frozen importlib._bootstrap>:1009(_handle_fromlist)\n",
      "        1    0.000    0.000    0.000    0.000 {method 'disable' of '_lsprof.Profiler' objects}\n",
      "      100    0.000    0.000    0.001    0.000 <__array_function__ internals>:2(result_type)\n",
      "      200    0.001    0.000    0.110    0.001 <__array_function__ internals>:2(dot)\n",
      "      200    0.001    0.000    0.001    0.000 /Applications/anaconda/envs/FIFAGP/lib/python3.7/site-packages/numpy/core/numerictypes.py:285(issubclass_)\n",
      "      100    0.000    0.000    0.001    0.000 /Applications/anaconda/envs/FIFAGP/lib/python3.7/site-packages/numpy/core/numerictypes.py:359(issubdtype)\n",
      "      100    0.000    0.000    0.003    0.000 <__array_function__ internals>:2(prod)\n",
      "      200    0.001    0.000    0.004    0.000 /Applications/anaconda/envs/FIFAGP/lib/python3.7/site-packages/numpy/core/_ufunc_config.py:32(seterr)\n",
      "      200    0.001    0.000    0.001    0.000 /Applications/anaconda/envs/FIFAGP/lib/python3.7/site-packages/numpy/core/_ufunc_config.py:132(geterr)\n",
      "      100    0.000    0.000    0.000    0.000 /Applications/anaconda/envs/FIFAGP/lib/python3.7/site-packages/numpy/core/_ufunc_config.py:429(__init__)\n",
      "      100    0.000    0.000    0.002    0.000 /Applications/anaconda/envs/FIFAGP/lib/python3.7/site-packages/numpy/core/_ufunc_config.py:433(__enter__)\n",
      "      100    0.001    0.000    0.002    0.000 /Applications/anaconda/envs/FIFAGP/lib/python3.7/site-packages/numpy/core/_ufunc_config.py:438(__exit__)\n",
      "      100    0.001    0.000    0.098    0.001 <__array_function__ internals>:2(allclose)\n",
      "      100    0.000    0.000    0.092    0.001 <__array_function__ internals>:2(isclose)\n",
      "      300    0.001    0.000    0.013    0.000 <__array_function__ internals>:2(all)\n",
      "      102    0.000    0.000    0.004    0.000 <__array_function__ internals>:2(sum)\n",
      "      100    0.000    0.000    0.000    0.000 /Applications/anaconda/envs/FIFAGP/lib/python3.7/site-packages/numpy/core/numeric.py:2182(_allclose_dispatcher)\n",
      "      100    0.001    0.000    0.097    0.001 /Applications/anaconda/envs/FIFAGP/lib/python3.7/site-packages/numpy/core/numeric.py:2186(allclose)\n",
      "      100    0.000    0.000    0.000    0.000 /Applications/anaconda/envs/FIFAGP/lib/python3.7/site-packages/numpy/core/numeric.py:2260(_isclose_dispatcher)\n",
      "      100    0.047    0.000    0.065    0.001 /Applications/anaconda/envs/FIFAGP/lib/python3.7/site-packages/numpy/core/numeric.py:2344(within_tol)\n",
      "      100    0.015    0.000    0.091    0.001 /Applications/anaconda/envs/FIFAGP/lib/python3.7/site-packages/numpy/core/numeric.py:2264(isclose)\n",
      "      102    0.000    0.000    0.000    0.000 /Applications/anaconda/envs/FIFAGP/lib/python3.7/site-packages/numpy/core/fromnumeric.py:2106(_sum_dispatcher)\n",
      "      102    0.001    0.000    0.004    0.000 /Applications/anaconda/envs/FIFAGP/lib/python3.7/site-packages/numpy/core/fromnumeric.py:2111(sum)\n",
      "      300    0.000    0.000    0.000    0.000 /Applications/anaconda/envs/FIFAGP/lib/python3.7/site-packages/numpy/core/fromnumeric.py:2350(_all_dispatcher)\n",
      "      300    0.001    0.000    0.011    0.000 /Applications/anaconda/envs/FIFAGP/lib/python3.7/site-packages/numpy/core/fromnumeric.py:2355(all)\n",
      "      436    0.001    0.000    0.002    0.000 /Applications/anaconda/envs/FIFAGP/lib/python3.7/site-packages/numpy/core/_asarray.py:23(asarray)\n",
      "      200    0.000    0.000    0.001    0.000 /Applications/anaconda/envs/FIFAGP/lib/python3.7/site-packages/numpy/core/_asarray.py:110(asanyarray)\n",
      "        1    0.000    0.000    0.000    0.000 /Applications/anaconda/envs/FIFAGP/lib/python3.7/site-packages/numpy/core/_methods.py:45(_sum)\n",
      "      224    0.000    0.000    0.006    0.000 /Applications/anaconda/envs/FIFAGP/lib/python3.7/site-packages/numpy/core/_methods.py:59(_all)\n",
      "      100    0.000    0.000    0.000    0.000 /Applications/anaconda/envs/FIFAGP/lib/python3.7/site-packages/numpy/core/fromnumeric.py:2907(_prod_dispatcher)\n",
      "      100    0.000    0.000    0.003    0.000 /Applications/anaconda/envs/FIFAGP/lib/python3.7/site-packages/numpy/core/fromnumeric.py:2912(prod)\n",
      "      502    0.001    0.000    0.001    0.000 /Applications/anaconda/envs/FIFAGP/lib/python3.7/site-packages/numpy/core/fromnumeric.py:71(<dictcomp>)\n",
      "      502    0.003    0.000    0.015    0.000 /Applications/anaconda/envs/FIFAGP/lib/python3.7/site-packages/numpy/core/fromnumeric.py:70(_wrapreduction)\n",
      "      100    0.000    0.000    0.000    0.000 /Applications/anaconda/envs/FIFAGP/lib/python3.7/site-packages/numpy/core/multiarray.py:644(result_type)\n",
      "      200    0.000    0.000    0.000    0.000 /Applications/anaconda/envs/FIFAGP/lib/python3.7/site-packages/numpy/core/multiarray.py:716(dot)\n",
      "      300    0.000    0.000    0.000    0.000 {method '__array_prepare__' of 'numpy.ndarray' objects}\n",
      "      224    0.001    0.000    0.006    0.000 {method 'all' of 'numpy.ndarray' objects}\n",
      "      404    0.003    0.000    0.003    0.000 {method 'astype' of 'numpy.ndarray' objects}\n",
      "      100    0.000    0.000    0.000    0.000 {method 'ravel' of 'numpy.ndarray' objects}\n",
      "        1    0.000    0.000    0.000    0.000 {method 'sum' of 'numpy.ndarray' objects}\n",
      "      736    0.002    0.000    0.002    0.000 {built-in method numpy.array}\n",
      "      101    0.001    0.000    0.001    0.000 {built-in method numpy.arange}\n",
      "      264    0.029    0.000    0.029    0.000 {built-in method numpy.zeros}\n",
      "        4    0.000    0.000    0.000    0.000 {built-in method numpy.promote_types}\n",
      " 1202/702    0.113    0.000    2.070    0.003 {built-in method numpy.core._multiarray_umath.implement_array_function}\n",
      "      200    0.001    0.000    0.001    0.000 {built-in method numpy.seterrobj}\n",
      "      400    0.000    0.000    0.000    0.000 {built-in method numpy.geterrobj}\n",
      "      727    0.015    0.000    0.015    0.000 {method 'reduce' of 'numpy.ufunc' objects}\n",
      "      200    0.001    0.000    0.001    0.000 /Applications/anaconda/envs/FIFAGP/lib/python3.7/site-packages/numpy/core/getlimits.py:382(__new__)\n",
      "      200    0.001    0.000    0.001    0.000 /Applications/anaconda/envs/FIFAGP/lib/python3.7/site-packages/numpy/linalg/linalg.py:102(get_linalg_error_extobj)\n",
      "      200    0.001    0.000    0.002    0.000 /Applications/anaconda/envs/FIFAGP/lib/python3.7/site-packages/numpy/linalg/linalg.py:107(_makearray)\n",
      "      400    0.000    0.000    0.000    0.000 /Applications/anaconda/envs/FIFAGP/lib/python3.7/site-packages/numpy/linalg/linalg.py:112(isComplexType)\n",
      "      300    0.001    0.000    0.001    0.000 /Applications/anaconda/envs/FIFAGP/lib/python3.7/site-packages/numpy/linalg/linalg.py:125(_realType)\n",
      "      200    0.002    0.000    0.003    0.000 /Applications/anaconda/envs/FIFAGP/lib/python3.7/site-packages/numpy/linalg/linalg.py:135(_commonType)\n",
      "      200    0.001    0.000    0.001    0.000 /Applications/anaconda/envs/FIFAGP/lib/python3.7/site-packages/numpy/linalg/linalg.py:193(_assert_stacked_2d)\n",
      "      100    0.000    0.000    0.000    0.000 /Applications/anaconda/envs/FIFAGP/lib/python3.7/site-packages/numpy/linalg/linalg.py:199(_assert_stacked_square)\n",
      "      100    0.000    0.000    0.000    0.000 /Applications/anaconda/envs/FIFAGP/lib/python3.7/site-packages/numpy/linalg/linalg.py:472(_unary_dispatcher)\n",
      "      100    0.274    0.003    0.279    0.003 /Applications/anaconda/envs/FIFAGP/lib/python3.7/site-packages/numpy/linalg/linalg.py:476(inv)\n",
      "      100    0.000    0.000    0.000    0.000 /Applications/anaconda/envs/FIFAGP/lib/python3.7/site-packages/numpy/linalg/linalg.py:1478(_svd_dispatcher)\n",
      "      100    1.571    0.016    1.576    0.016 /Applications/anaconda/envs/FIFAGP/lib/python3.7/site-packages/numpy/linalg/linalg.py:1482(svd)\n",
      "      262    0.006    0.000    0.035    0.000 /Applications/anaconda/envs/FIFAGP/lib/python3.7/site-packages/numpy/lib/twodim_base.py:156(eye)\n",
      "      100    0.000    0.000    0.280    0.003 <__array_function__ internals>:2(inv)\n",
      "      100    0.001    0.000    1.578    0.016 <__array_function__ internals>:2(svd)\n",
      "      224    0.015    0.000    0.022    0.000 /Applications/anaconda/envs/FIFAGP/lib/python3.7/site-packages/numpy/lib/function_base.py:422(asarray_chkfinite)\n",
      "      100    0.010    0.000    0.015    0.000 {method 'choice' of 'numpy.random.mtrand.RandomState' objects}\n",
      "       31    0.000    0.000    0.000    0.000 {method 'rand' of 'numpy.random.mtrand.RandomState' objects}\n",
      "      200    0.005    0.000    0.005    0.000 {method 'gamma' of 'numpy.random.mtrand.RandomState' objects}\n",
      "      100    0.145    0.001    1.932    0.019 {method 'multivariate_normal' of 'numpy.random.mtrand.RandomState' objects}\n",
      "      224    0.000    0.000    0.000    0.000 /Applications/anaconda/envs/FIFAGP/lib/python3.7/site-packages/numpy/ma/core.py:6371(isMaskedArray)\n",
      "        2    0.005    0.002    0.005    0.003 /Applications/anaconda/envs/FIFAGP/lib/python3.7/site-packages/scipy/spatial/kdtree.py:12(minkowski_distance_p)\n",
      "        2    0.000    0.000    0.005    0.003 /Applications/anaconda/envs/FIFAGP/lib/python3.7/site-packages/scipy/spatial/kdtree.py:55(minkowski_distance)\n",
      "        2    0.000    0.000    0.005    0.003 /Applications/anaconda/envs/FIFAGP/lib/python3.7/site-packages/scipy/spatial/kdtree.py:866(distance_matrix)\n",
      "      224    0.000    0.000    0.001    0.000 /Applications/anaconda/envs/FIFAGP/lib/python3.7/site-packages/scipy/sparse/base.py:1205(isspmatrix)\n",
      "      224    0.004    0.000    0.027    0.000 /Applications/anaconda/envs/FIFAGP/lib/python3.7/site-packages/scipy/_lib/_util.py:216(_asarray_validated)\n",
      "      224    0.000    0.000    0.000    0.000 /Applications/anaconda/envs/FIFAGP/lib/python3.7/site-packages/scipy/linalg/misc.py:182(_datacopied)\n",
      "      162    0.001    0.000    0.001    0.000 /Applications/anaconda/envs/FIFAGP/lib/python3.7/site-packages/scipy/linalg/blas.py:382(getter)\n",
      "      162    0.002    0.000    0.004    0.000 /Applications/anaconda/envs/FIFAGP/lib/python3.7/site-packages/scipy/linalg/lapack.py:982(_compute_lwork)\n",
      "      162    0.002    0.000    0.002    0.000 /Applications/anaconda/envs/FIFAGP/lib/python3.7/site-packages/scipy/linalg/lapack.py:1017(_check_work_float)\n",
      "      162    0.428    0.003    0.453    0.003 /Applications/anaconda/envs/FIFAGP/lib/python3.7/site-packages/scipy/linalg/basic.py:895(inv)\n",
      "       62    0.071    0.001    0.081    0.001 /Applications/anaconda/envs/FIFAGP/lib/python3.7/site-packages/scipy/linalg/basic.py:972(det)\n",
      "       62    0.000    0.000    0.000    0.000 /Applications/anaconda/envs/FIFAGP/lib/python3.7/site-packages/scipy/linalg/flinalg.py:20(has_column_major_storage)\n",
      "       62    0.001    0.000    0.002    0.000 /Applications/anaconda/envs/FIFAGP/lib/python3.7/site-packages/scipy/linalg/flinalg.py:27(get_flinalg_funcs)\n",
      "        1    0.240    0.240    3.294    3.294 <ipython-input-6-046e4b628ebe>:49(Gibbs_GP)\n",
      "      100    0.008    0.000    0.367    0.004 <ipython-input-6-046e4b628ebe>:14(sampleRho_MH)\n",
      "      162    0.234    0.001    0.254    0.002 <ipython-input-6-046e4b628ebe>:1(build_K)\n",
      "        1    0.000    0.000    0.000    0.000 <ipython-input-6-046e4b628ebe>:6(get_Proposalmatrix)\n",
      "        1    0.000    0.000    3.295    3.295 <string>:1(<module>)\n",
      "\n",
      "\n"
     ]
    }
   ],
   "source": [
    "import pstats\n",
    "p = pstats.Stats('Gibbs_profiler.prof')\n",
    "p.print_stats()\n",
    "pass"
   ]
  },
  {
   "cell_type": "code",
   "execution_count": 16,
   "id": "hybrid-effectiveness",
   "metadata": {},
   "outputs": [
    {
     "name": "stdout",
     "output_type": "stream",
     "text": [
      "0\n",
      "1\n",
      "2\n",
      "3\n",
      "4\n",
      "5\n"
     ]
    }
   ],
   "source": [
    "Gibbs_results = {}\n",
    "Gibbs_times = np.zeros(len(n_list))\n",
    "n_iter = 100\n",
    "for i in range(len(n_list)):\n",
    "    print(i)\n",
    "    n = n_list[i]\n",
    "    out = test_GibbsSampler(simualtion_data, n, n_iter)\n",
    "    ## STORE THE VALUES\n",
    "    Gibbs_results[str(n)] = out\n",
    "    \n",
    "    f_vals = out[0][0]\n",
    "    samp = out[0][1]\n",
    "    name_f = \"output/Gibbs/Gibbs_sampler_fout_\" + str(n) +\".npy\"\n",
    "    np.save(name_f, f_vals)\n",
    "    name_samp = \"output/Gibbs/Gibbs_sampler_postpars_\" + str(n) +\".npy\"\n",
    "    np.save(name_samp, samp)\n",
    "    \n",
    "    Gibbs_times[i] = out[1]\n",
    "\n",
    "name_times = \"output/Gibbs/Gibbs_times.npy\"\n",
    "np.save(name_times, Gibbs_times)"
   ]
  },
  {
   "cell_type": "markdown",
   "id": "dated-swift",
   "metadata": {},
   "source": [
    "#### Plots"
   ]
  },
  {
   "cell_type": "code",
   "execution_count": 97,
   "id": "restricted-greek",
   "metadata": {},
   "outputs": [],
   "source": [
    "import seaborn as sns\n",
    "import pandas as pd\n",
    "sns.set_style(\"ticks\")"
   ]
  },
  {
   "cell_type": "code",
   "execution_count": 178,
   "id": "naked-stable",
   "metadata": {},
   "outputs": [],
   "source": [
    "df_times = pd.DataFrame({\"FIFAGP\": np.load(\"output/FIFAGP/FIFAGP_times.npy\"), \n",
    "           \"Gibbs (Python)\": np.load(\"output/Gibbs/Gibbs_times.npy\"),\n",
    "           \"GPy\": np.load(\"output/GPy/GPy_times.npy\"), \n",
    "           \"PyStan\": np.load(\"output/Pystan/stan_times.npy\"), \n",
    "           \"n\": n_list}).melt(\"n\", value_name = \"time (seconds)\", var_name=\"method\")"
   ]
  },
  {
   "cell_type": "code",
   "execution_count": 179,
   "id": "retired-wholesale",
   "metadata": {},
   "outputs": [
    {
     "data": {
      "image/png": "[encoded data removed]",
      "text/plain": [
       "<Figure size 432x288 with 1 Axes>"
      ]
     },
     "metadata": {},
     "output_type": "display_data"
    }
   ],
   "source": [
    "sns.scatterplot(data = df_times, x = \"n\", y = \"time (seconds)\", hue = \"method\")\n",
    "sns.lineplot(data = df_times, x = \"n\", y = \"time (seconds)\", hue = \"method\",  linestyle='--', legend=False)\n",
    "sns.despine()\n",
    "pass"
   ]
  },
  {
   "cell_type": "code",
   "execution_count": 115,
   "id": "thick-process",
   "metadata": {},
   "outputs": [],
   "source": [
    "def samplef_stan(x,y, samp):\n",
    "    \"\"\"sample from the posterior of f from a stan output\"\"\"\n",
    "    D = scipy.spatial.distance_matrix(x[:, None],x[:, None])**2\n",
    "    n = x.shape[0]\n",
    "    f_vals = np.zeros((samp.shape[0], n))\n",
    "    for i in range(samp.shape[0]):\n",
    "        sigma2f = samp[i, 2]\n",
    "        rho = (1/(2*(samp[i, 1]**2)))\n",
    "        tau = samp[i, 0]\n",
    "        K = build_K(sigma2f, rho, D)\n",
    "        K_Ktau_inv = K @ np.linalg.inv(K + np.eye(n)/tau) \n",
    "        f = np.random.multivariate_normal(mean = K_Ktau_inv @ y, cov = tau * K_Ktau_inv, size=1)[0]\n",
    "        f_vals[i] = f\n",
    "    return f_vals"
   ]
  },
  {
   "cell_type": "code",
   "execution_count": 119,
   "id": "smooth-enhancement",
   "metadata": {},
   "outputs": [],
   "source": [
    "def samplef_GPy(x, y, samp):\n",
    "    \"\"\"sample from the posterior of f from a stan output\"\"\"\n",
    "    D = scipy.spatial.distance_matrix(x[:, None],x[:, None])**2\n",
    "    n = x.shape[0]\n",
    "    f_vals = np.zeros((samp.shape[0], n))\n",
    "    for i in range(samp.shape[0]):\n",
    "        sigma2f = samp[i, 0]\n",
    "        rho = (1/2*samp[i, 1])\n",
    "        tau = 1/samp[i, 2]\n",
    "        K = build_K(sigma2f, rho, D)\n",
    "        K_Ktau_inv = K @ np.linalg.inv(K + np.eye(n)/tau) \n",
    "        f = np.random.multivariate_normal(mean = K_Ktau_inv @ y, cov = tau * K_Ktau_inv, size=1)[0]\n",
    "        f_vals[i] = f\n",
    "    return f_vals"
   ]
  },
  {
   "cell_type": "code",
   "execution_count": 183,
   "id": "arabic-chemical",
   "metadata": {},
   "outputs": [],
   "source": [
    "# Let's look at the plots now\n",
    "n = 500\n",
    "y = simualtion_data[str(n)][:, 0]\n",
    "x = simualtion_data[str(n)][:, 1]\n",
    "\n",
    "# FIFA GP\n",
    "fifa = np.load(\"output/FIFAGP/FIFAGP_sampler_fout_\" + str(n) + \".npy\").mean(axis = 1)\n",
    "\n",
    "# Gibbs\n",
    "gibbs = np.load(\"output/Gibbs/Gibbs_sampler_fout_\" + str(n) + \".npy\").mean(axis = 0)\n",
    "\n",
    "# Stan \n",
    "samp = np.load(\"output/Pystan/Pystan_sampler_postpars_\" + str(n) + \".npy\")\n",
    "f_stan = samplef_stan(x, y, samp).mean(axis = 0)\n",
    "\n",
    "# GPy \n",
    "samp = np.load(\"output/GPy/GPy_sampler_postpars_\" + str(n) + \".npy\")\n",
    "f_GPy = samplef_GPy(x, y, samp).mean(axis = 0)"
   ]
  },
  {
   "cell_type": "code",
   "execution_count": 184,
   "id": "productive-installation",
   "metadata": {},
   "outputs": [
    {
     "data": {
      "image/png": "[encoded data removed]",
      "text/plain": [
       "<Figure size 432x288 with 1 Axes>"
      ]
     },
     "metadata": {},
     "output_type": "display_data"
    }
   ],
   "source": [
    "df_samps = pd.DataFrame({\"FIFAGP\": fifa, \n",
    "           \"Gibbs (Python)\": gibbs,\n",
    "           \"GPy\": f_GPy, \n",
    "           \"PyStan\": f_stan, \n",
    "           \"x\": x}).melt(\"x\", value_name = \"f\", var_name=\"method\")\n",
    "sns.scatterplot(data = pd.DataFrame({\"x\":x, \"y\":y}), x = \"x\", y = \"y\",alpha = 0.8)\n",
    "sns.lineplot(data = df_samps, x = \"x\", y = \"f\", hue = \"method\",  linewidth=4, style =\"method\", \n",
    "             palette = [\"orange\", \"black\", \"green\", \"red\"])\n",
    "pass"
   ]
  }
 ],
 "metadata": {
  "kernelspec": {
   "display_name": "Python 3",
   "language": "python",
   "name": "python3"
  },
  "language_info": {
   "codemirror_mode": {
    "name": "ipython",
    "version": 3
   },
   "file_extension": ".py",
   "mimetype": "text/x-python",
   "name": "python",
   "nbconvert_exporter": "python",
   "pygments_lexer": "ipython3",
   "version": "3.7.10"
  }
 },
 "nbformat": 4,
 "nbformat_minor": 5
}
